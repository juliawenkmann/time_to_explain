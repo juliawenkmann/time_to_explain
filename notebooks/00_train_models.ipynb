{
 "cells": [
  {
   "cell_type": "markdown",
   "metadata": {},
   "source": [
    "# Training mdoels"
   ]
  },
  {
   "cell_type": "code",
   "execution_count": null,
   "metadata": {},
   "outputs": [],
   "source": [
    "import argparse\n",
    "import os\n",
    "\n",
    "from common import (add_dataset_arguments, create_tgn_wrapper_from_args, create_tgnn_wrapper_from_args, add_wrapper_model_arguments,\n",
    "                    add_model_training_arguments, parse_args)\n",
    "\n",
    "if __name__ == '__main__':\n",
    "    parser = argparse.ArgumentParser('T-GNN Training')\n",
    "    add_dataset_arguments(parser)\n",
    "    add_wrapper_model_arguments(parser)\n",
    "    add_model_training_arguments(parser)\n",
    "\n",
    "    args = parse_args(parser)\n",
    "\n",
    "    tgnn_wrapper = create_tgnn_wrapper_from_args(args)\n",
    "\n",
    "    model_path = args.model_path\n",
    "    checkpoints_path = os.path.join(model_path, 'checkpoints/')\n",
    "    if not os.path.exists(checkpoints_path):\n",
    "        os.mkdir(checkpoints_path)\n",
    "\n",
    "    tgnn_wrapper.train_model(args.epochs, checkpoint_path=checkpoints_path, model_path=model_path,\n",
    "                            results_path=model_path + '/results.pkl')\n"
   ]
  }
 ],
 "metadata": {
  "kernelspec": {
   "display_name": "graphs",
   "language": "python",
   "name": "python3"
  },
  "language_info": {
   "name": "python",
   "version": "3.11.8"
  }
 },
 "nbformat": 4,
 "nbformat_minor": 2
}
